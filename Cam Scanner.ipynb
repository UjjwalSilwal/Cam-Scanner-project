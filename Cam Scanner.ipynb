{
 "cells": [
  {
   "cell_type": "code",
   "execution_count": 2,
   "id": "b664abbc",
   "metadata": {},
   "outputs": [],
   "source": [
    "# get / import basic's library\n",
    "\n",
    "import numpy as np\n",
    "import matplotlib.pyplot as plt\n",
    "import cv2\n",
    "\n",
    "%matplotlib inline"
   ]
  },
  {
   "cell_type": "code",
   "execution_count": 4,
   "id": "cfe4da72",
   "metadata": {},
   "outputs": [
    {
     "name": "stdout",
     "output_type": "stream",
     "text": [
      "(4640, 3472, 3)\n"
     ]
    }
   ],
   "source": [
    "im_path= \"./bill.jpg\"\n",
    "# read image from path\n",
    "img = cv2.imread(im_path)\n",
    "print(img.shape)\n",
    "\n",
    "#img resize\n",
    "img = cv2.resize(img,(1500,800))\n",
    "\n",
    "# BGR format : BGR->RGB"
   ]
  },
  {
   "cell_type": "code",
   "execution_count": null,
   "id": "a12d1de0",
   "metadata": {},
   "outputs": [],
   "source": []
  }
 ],
 "metadata": {
  "kernelspec": {
   "display_name": "Python 3 (ipykernel)",
   "language": "python",
   "name": "python3"
  },
  "language_info": {
   "codemirror_mode": {
    "name": "ipython",
    "version": 3
   },
   "file_extension": ".py",
   "mimetype": "text/x-python",
   "name": "python",
   "nbconvert_exporter": "python",
   "pygments_lexer": "ipython3",
   "version": "3.11.7"
  }
 },
 "nbformat": 4,
 "nbformat_minor": 5
}
