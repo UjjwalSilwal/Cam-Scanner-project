{
 "cells": [
  {
   "cell_type": "code",
   "execution_count": 1,
   "id": "b664abbc",
   "metadata": {},
   "outputs": [
    {
     "ename": "ModuleNotFoundError",
     "evalue": "No module named 'cv2'",
     "output_type": "error",
     "traceback": [
      "\u001b[1;31m---------------------------------------------------------------------------\u001b[0m",
      "\u001b[1;31mModuleNotFoundError\u001b[0m                       Traceback (most recent call last)",
      "\u001b[1;32m~\\AppData\\Local\\Temp\\ipykernel_13480\\375388330.py\u001b[0m in \u001b[0;36m<module>\u001b[1;34m\u001b[0m\n\u001b[0;32m      3\u001b[0m \u001b[1;32mimport\u001b[0m \u001b[0mnumpy\u001b[0m \u001b[1;32mas\u001b[0m \u001b[0mnp\u001b[0m\u001b[1;33m\u001b[0m\u001b[1;33m\u001b[0m\u001b[0m\n\u001b[0;32m      4\u001b[0m \u001b[1;32mimport\u001b[0m \u001b[0mmatplotlib\u001b[0m\u001b[1;33m.\u001b[0m\u001b[0mpyplot\u001b[0m \u001b[1;32mas\u001b[0m \u001b[0mplt\u001b[0m\u001b[1;33m\u001b[0m\u001b[1;33m\u001b[0m\u001b[0m\n\u001b[1;32m----> 5\u001b[1;33m \u001b[1;32mimport\u001b[0m \u001b[0mcv2\u001b[0m\u001b[1;33m\u001b[0m\u001b[1;33m\u001b[0m\u001b[0m\n\u001b[0m\u001b[0;32m      6\u001b[0m \u001b[1;33m\u001b[0m\u001b[0m\n\u001b[0;32m      7\u001b[0m \u001b[0mget_ipython\u001b[0m\u001b[1;33m(\u001b[0m\u001b[1;33m)\u001b[0m\u001b[1;33m.\u001b[0m\u001b[0mrun_line_magic\u001b[0m\u001b[1;33m(\u001b[0m\u001b[1;34m'matplotlib'\u001b[0m\u001b[1;33m,\u001b[0m \u001b[1;34m'inline'\u001b[0m\u001b[1;33m)\u001b[0m\u001b[1;33m\u001b[0m\u001b[1;33m\u001b[0m\u001b[0m\n",
      "\u001b[1;31mModuleNotFoundError\u001b[0m: No module named 'cv2'"
     ]
    }
   ],
   "source": [
    "# get / import basic's library\n",
    "\n",
    "import numpy as np\n",
    "import matplotlib.pyplot as plt\n",
    "import cv2\n",
    "\n",
    "%matplotlib inline"
   ]
  },
  {
   "cell_type": "code",
   "execution_count": null,
   "id": "cfe4da72",
   "metadata": {},
   "outputs": [],
   "source": [
    "im_path= \"./bill.jpg\"\n",
    "# read image from path\n",
    "img = cv2.imread(im_path)\n",
    "print(img.shape)\n",
    "\n",
    "#img resize\n",
    "img = cv2.resize(img,(1500,800))\n",
    "\n",
    "# BGR format : BGR->RGB\n",
    "print(img.shape)\n",
    "\n",
    "plt.imshow(img)  #how our image would show\n",
    "plt.show()"
   ]
  },
  {
   "cell_type": "code",
   "execution_count": null,
   "id": "a12d1de0",
   "metadata": {},
   "outputs": [],
   "source": [
    "# 1 Remove the Noise\n",
    "# 2 Edge Detection\n",
    "# 3 Contour Extraction\n",
    "# 4 Best Contour Selection\n",
    "# 5 Project to the screen"
   ]
  },
  {
   "cell_type": "code",
   "execution_count": null,
   "id": "0d0260e9",
   "metadata": {},
   "outputs": [],
   "source": [
    "#1 remove the noise\n",
    "\n",
    "originalimg = img.copy()\n",
    "gray = cv2.cvtColor(originalimg, cv2.COLOR_BGR2GRAY)\n",
    "plt.imshow(gray, cmap=\"binary\" )\n",
    "plt.show()\n",
    "\n",
    "##1.1 Image Blurring\n",
    "\n",
    "blurred = cv2.GaussianBlur(gray, (5,5), 0)\n",
    "plt.imshow(blurred, cmap=\"binary\")\n",
    "plt.show()"
   ]
  },
  {
   "cell_type": "code",
   "execution_count": null,
   "id": "1c5b4116",
   "metadata": {},
   "outputs": [],
   "source": [
    "# converting the above blurred image to BGR (color format)\n",
    "\n",
    "regenerated = cv2.cvtColor(blurred, cv2.COLOR_GRAY2BGR)\n",
    "plt.imshow(originalimg)\n",
    "plt.show()\n",
    "\n",
    "plt.imshow(regenerated)\n",
    "plt.show()"
   ]
  },
  {
   "cell_type": "code",
   "execution_count": null,
   "id": "941c14ed",
   "metadata": {},
   "outputs": [],
   "source": [
    "#2 Edge detection\n",
    "\n",
    "edge = cv2.Canny(blurred, 0 , 50)\n",
    "originalimg_edge = edge.copy()\n",
    "\n",
    "plt.imshow(originalimg_edge)\n",
    "plt.title(\"Edge Detection\")\n",
    "plt.show()"
   ]
  },
  {
   "cell_type": "code",
   "execution_count": null,
   "id": "83953706",
   "metadata": {},
   "outputs": [],
   "source": [
    "#3 Contours Extraction\n",
    "\n",
    "contours, _ = cv2.findContours(edge, cv2.RETR_LIST, cv2.CHAIN_APPROX_NONE)\n",
    "print(len(contours))\n",
    "\n",
    "contours = sorted( contours, reverse=True , key= cv2.contourArea )"
   ]
  },
  {
   "cell_type": "code",
   "execution_count": null,
   "id": "980ec97e",
   "metadata": {},
   "outputs": [],
   "source": [
    "# select the best contour region\n",
    "\n",
    "for c in contours :\n",
    "    \n",
    "    p = cv2.arcLength(c,True)\n",
    "    \n",
    "    approx = cv2.approxPolyDP(c, 0.01*p, True)\n",
    "    \n",
    "    if len(approx) == 4 :\n",
    "        target = approx\n",
    "        break\n",
    "    \n",
    "print(target.shape)"
   ]
  },
  {
   "cell_type": "code",
   "execution_count": null,
   "id": "ff556164",
   "metadata": {},
   "outputs": [],
   "source": [
    "## reorder target contor\n",
    "\n",
    "def reorder(h):\n",
    "    \n",
    "    h=h.reshape((4,2))\n",
    "    print(h)\n",
    "    \n",
    "    hnew = np.zeros((4,2), dtype= np.float32)\n",
    "    \n",
    "    add = h.sum(axis = 1)\n",
    "    hnew[3] = h[np.argmax(add)]\n",
    "    hnew[1] = h[np.argmax(add)]\n",
    "    \n",
    "    diff = np.diff(h, axis = 1)\n",
    "    hnew[0] = h[np.argmax(diff)]\n",
    "    hnew[2] = h[np.argmax(diff)]\n",
    "    \n",
    "    return hnew"
   ]
  },
  {
   "cell_type": "code",
   "execution_count": null,
   "id": "f89c730a",
   "metadata": {},
   "outputs": [],
   "source": [
    "reorder = reorder(target)\n",
    "print(\"*************\")\n",
    "print(reorder)"
   ]
  },
  {
   "cell_type": "code",
   "execution_count": null,
   "id": "754ce0a2",
   "metadata": {},
   "outputs": [],
   "source": [
    "## project to a fixed screen\n",
    "\n",
    "input_representation = reorder\n",
    "\n",
    "output_map = np.float32([[0,0],[800,0],[800,800],[0,800]])"
   ]
  },
  {
   "cell_type": "code",
   "execution_count": null,
   "id": "935b7173",
   "metadata": {},
   "outputs": [],
   "source": [
    "M = cv2.getPerspectiveTransform(input_representation, output_map)\n",
    "\n",
    "ans = cv2.warpPerspective(originalimg, M, (800, 800))"
   ]
  },
  {
   "cell_type": "code",
   "execution_count": null,
   "id": "c9652be9",
   "metadata": {},
   "outputs": [],
   "source": [
    "plt.imshow(ans)\n",
    "plt.title(\"Edge Detection\")\n",
    "plt.show()"
   ]
  }
 ],
 "metadata": {
  "kernelspec": {
   "display_name": "Python 3 (ipykernel)",
   "language": "python",
   "name": "python3"
  },
  "language_info": {
   "codemirror_mode": {
    "name": "ipython",
    "version": 3
   },
   "file_extension": ".py",
   "mimetype": "text/x-python",
   "name": "python",
   "nbconvert_exporter": "python",
   "pygments_lexer": "ipython3",
   "version": "3.9.13"
  }
 },
 "nbformat": 4,
 "nbformat_minor": 5
}
